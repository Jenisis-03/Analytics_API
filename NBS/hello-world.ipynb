{
 "cells": [
  {
   "cell_type": "code",
   "execution_count": null,
   "id": "e106e503",
   "metadata": {},
   "outputs": [
    {
     "name": "stdout",
     "output_type": "stream",
     "text": [
      "Requirement already satisfied: requests in c:\\users\\subham\\desktop\\analytics_api\\venv\\lib\\site-packages (2.32.3)\n",
      "Requirement already satisfied: charset-normalizer<4,>=2 in c:\\users\\subham\\desktop\\analytics_api\\venv\\lib\\site-packages (from requests) (3.4.1)\n",
      "Requirement already satisfied: idna<4,>=2.5 in c:\\users\\subham\\desktop\\analytics_api\\venv\\lib\\site-packages (from requests) (3.10)\n",
      "Requirement already satisfied: urllib3<3,>=1.21.1 in c:\\users\\subham\\desktop\\analytics_api\\venv\\lib\\site-packages (from requests) (2.4.0)\n",
      "Requirement already satisfied: certifi>=2017.4.17 in c:\\users\\subham\\desktop\\analytics_api\\venv\\lib\\site-packages (from requests) (2025.1.31)\n",
      "Note: you may need to restart the kernel to use updated packages.\n"
     ]
    }
   ],
   "source": [
    "# %pip install requests "
   ]
  },
  {
   "cell_type": "code",
   "execution_count": null,
   "id": "6cd18ecb",
   "metadata": {},
   "outputs": [
    {
     "name": "stdout",
     "output_type": "stream",
     "text": [
      "Requirement already satisfied: httpx in c:\\users\\subham\\desktop\\analytics_api\\venv\\lib\\site-packages (0.28.1)\n",
      "Requirement already satisfied: anyio in c:\\users\\subham\\desktop\\analytics_api\\venv\\lib\\site-packages (from httpx) (4.9.0)\n",
      "Requirement already satisfied: certifi in c:\\users\\subham\\desktop\\analytics_api\\venv\\lib\\site-packages (from httpx) (2025.1.31)\n",
      "Requirement already satisfied: httpcore==1.* in c:\\users\\subham\\desktop\\analytics_api\\venv\\lib\\site-packages (from httpx) (1.0.8)\n",
      "Requirement already satisfied: idna in c:\\users\\subham\\desktop\\analytics_api\\venv\\lib\\site-packages (from httpx) (3.10)\n",
      "Requirement already satisfied: h11<0.15,>=0.13 in c:\\users\\subham\\desktop\\analytics_api\\venv\\lib\\site-packages (from httpcore==1.*->httpx) (0.14.0)\n",
      "Requirement already satisfied: sniffio>=1.1 in c:\\users\\subham\\desktop\\analytics_api\\venv\\lib\\site-packages (from anyio->httpx) (1.3.1)\n",
      "Note: you may need to restart the kernel to use updated packages.\n"
     ]
    }
   ],
   "source": [
    "# %pip install httpx"
   ]
  },
  {
   "cell_type": "code",
   "execution_count": 1,
   "id": "78197eb8",
   "metadata": {},
   "outputs": [],
   "source": [
    "import requests"
   ]
  },
  {
   "cell_type": "code",
   "execution_count": 3,
   "id": "97901365",
   "metadata": {},
   "outputs": [
    {
     "data": {
      "text/plain": [
       "'http://localhost:8002/health_check'"
      ]
     },
     "execution_count": 3,
     "metadata": {},
     "output_type": "execute_result"
    }
   ],
   "source": [
    "path = \"/health_check\"\n",
    "base_url= \"http://localhost:8002\"\n",
    "endpoint = f\"{base_url}{path}\"\n",
    "endpoint"
   ]
  },
  {
   "cell_type": "code",
   "execution_count": 4,
   "id": "897d6bcf",
   "metadata": {},
   "outputs": [
    {
     "name": "stdout",
     "output_type": "stream",
     "text": [
      "True\n"
     ]
    }
   ],
   "source": [
    "response= requests.get(endpoint)\n",
    "print(response.ok)"
   ]
  },
  {
   "cell_type": "code",
   "execution_count": null,
   "id": "f7d8907c",
   "metadata": {},
   "outputs": [],
   "source": []
  }
 ],
 "metadata": {
  "kernelspec": {
   "display_name": "venv",
   "language": "python",
   "name": "python3"
  },
  "language_info": {
   "codemirror_mode": {
    "name": "ipython",
    "version": 3
   },
   "file_extension": ".py",
   "mimetype": "text/x-python",
   "name": "python",
   "nbconvert_exporter": "python",
   "pygments_lexer": "ipython3",
   "version": "3.13.3"
  }
 },
 "nbformat": 4,
 "nbformat_minor": 5
}
